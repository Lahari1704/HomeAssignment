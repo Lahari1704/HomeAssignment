{
 "cells": [
  {
   "cell_type": "code",
   "execution_count": 2,
   "id": "107983dc",
   "metadata": {},
   "outputs": [],
   "source": [
    "s = \"this is My First Python programming class and i am learNING python string and its function\""
   ]
  },
  {
   "cell_type": "code",
   "execution_count": 3,
   "id": "e023e24a",
   "metadata": {},
   "outputs": [
    {
     "data": {
      "text/plain": [
       "'h   r tnrrmglsnimeNGyosi dtfco'"
      ]
     },
     "execution_count": 3,
     "metadata": {},
     "output_type": "execute_result"
    }
   ],
   "source": [
    "s[1:300:3]"
   ]
  },
  {
   "cell_type": "markdown",
   "id": "5c94017e",
   "metadata": {},
   "source": [
    "s[: : -1]"
   ]
  },
  {
   "cell_type": "markdown",
   "id": "e5f1f824",
   "metadata": {},
   "source": [
    "3.compiler translates the source code i.e written in programming language to machine understanding language."
   ]
  },
  {
   "cell_type": "markdown",
   "id": "289ca4a7",
   "metadata": {},
   "source": [
    "Interpretor is also a kind of compiler that too converting the source code into machine language but the difference is compiler converts in one go ,like it converts or translates all the code at once whereas the interpreter convertes each line by line. so it may take more time compared to compiler."
   ]
  },
  {
   "cell_type": "markdown",
   "id": "7915f4da",
   "metadata": {},
   "source": [
    "4.python is an interpreted language as it goes through line by line compilation of code."
   ]
  },
  {
   "cell_type": "code",
   "execution_count": null,
   "id": "24f53574",
   "metadata": {},
   "outputs": [],
   "source": [
    "5.Data processing,memory processesing"
   ]
  }
 ],
 "metadata": {
  "kernelspec": {
   "display_name": "Python 3 (ipykernel)",
   "language": "python",
   "name": "python3"
  },
  "language_info": {
   "codemirror_mode": {
    "name": "ipython",
    "version": 3
   },
   "file_extension": ".py",
   "mimetype": "text/x-python",
   "name": "python",
   "nbconvert_exporter": "python",
   "pygments_lexer": "ipython3",
   "version": "3.10.5"
  }
 },
 "nbformat": 4,
 "nbformat_minor": 5
}
