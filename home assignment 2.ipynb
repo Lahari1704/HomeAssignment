{
 "cells": [
  {
   "cell_type": "markdown",
   "id": "e3fec9ec",
   "metadata": {},
   "source": [
    " \"try to convert the whole string into lower case \""
   ]
  },
  {
   "cell_type": "code",
   "execution_count": 1,
   "id": "5c2cbdb2",
   "metadata": {},
   "outputs": [],
   "source": [
    "s1=\"HYDERABAD\""
   ]
  },
  {
   "cell_type": "code",
   "execution_count": 2,
   "id": "b9081e0d",
   "metadata": {},
   "outputs": [
    {
     "data": {
      "text/plain": [
       "'HYDERABAD'"
      ]
     },
     "execution_count": 2,
     "metadata": {},
     "output_type": "execute_result"
    }
   ],
   "source": [
    "s1"
   ]
  },
  {
   "cell_type": "code",
   "execution_count": 4,
   "id": "1f639db5",
   "metadata": {},
   "outputs": [
    {
     "data": {
      "text/plain": [
       "'hyderabad'"
      ]
     },
     "execution_count": 4,
     "metadata": {},
     "output_type": "execute_result"
    }
   ],
   "source": [
    "s1.lower()"
   ]
  },
  {
   "cell_type": "markdown",
   "id": "73adba2c",
   "metadata": {},
   "source": [
    "Try to captailize whole string"
   ]
  },
  {
   "cell_type": "code",
   "execution_count": 1,
   "id": "cd3f01e0",
   "metadata": {},
   "outputs": [],
   "source": [
    "s2= \"the story of a girl\""
   ]
  },
  {
   "cell_type": "code",
   "execution_count": 3,
   "id": "74c20e12",
   "metadata": {},
   "outputs": [
    {
     "data": {
      "text/plain": [
       "'The story of a girl'"
      ]
     },
     "execution_count": 3,
     "metadata": {},
     "output_type": "execute_result"
    }
   ],
   "source": [
    "s2.capitalize()"
   ]
  },
  {
   "cell_type": "markdown",
   "id": "b9859b56",
   "metadata": {},
   "source": [
    "difference between isalpha and ialnum"
   ]
  },
  {
   "cell_type": "markdown",
   "id": "e2de5ce7",
   "metadata": {},
   "source": [
    "isalpha(): Returns true if the string has characters."
   ]
  },
  {
   "cell_type": "markdown",
   "id": "f47d2376",
   "metadata": {},
   "source": [
    "isalnum():Returns true if the string has numericals"
   ]
  },
  {
   "cell_type": "code",
   "execution_count": 5,
   "id": "1fd2e459",
   "metadata": {},
   "outputs": [],
   "source": [
    "s3='1234'"
   ]
  },
  {
   "cell_type": "code",
   "execution_count": 6,
   "id": "8ae71dfd",
   "metadata": {},
   "outputs": [
    {
     "name": "stdout",
     "output_type": "stream",
     "text": [
      "True\n"
     ]
    }
   ],
   "source": [
    "print(s3.isalnum())"
   ]
  },
  {
   "cell_type": "code",
   "execution_count": 7,
   "id": "d4e44516",
   "metadata": {},
   "outputs": [],
   "source": [
    "s4=\"lahari\""
   ]
  },
  {
   "cell_type": "code",
   "execution_count": 8,
   "id": "8b6f2480",
   "metadata": {},
   "outputs": [
    {
     "name": "stdout",
     "output_type": "stream",
     "text": [
      "True\n"
     ]
    }
   ],
   "source": [
    "print(s4.isalpha())"
   ]
  },
  {
   "cell_type": "code",
   "execution_count": 9,
   "id": "e401b9ed",
   "metadata": {},
   "outputs": [
    {
     "name": "stdout",
     "output_type": "stream",
     "text": [
      "True\n"
     ]
    }
   ],
   "source": [
    "print(s3.isalnum())"
   ]
  },
  {
   "cell_type": "code",
   "execution_count": 10,
   "id": "b7b4a45f",
   "metadata": {},
   "outputs": [],
   "source": [
    "s5=\"L\\ta\\th\\ta\\tr\\ti\""
   ]
  },
  {
   "cell_type": "code",
   "execution_count": 13,
   "id": "226362be",
   "metadata": {},
   "outputs": [
    {
     "name": "stdout",
     "output_type": "stream",
     "text": [
      "L       a       h       a       r       i\n"
     ]
    }
   ],
   "source": [
    "print(s5.expandtabs())"
   ]
  },
  {
   "cell_type": "code",
   "execution_count": 33,
   "id": "39c316da",
   "metadata": {},
   "outputs": [],
   "source": [
    "s6=\"               Lahari                    \""
   ]
  },
  {
   "cell_type": "code",
   "execution_count": 34,
   "id": "d3aa20f5",
   "metadata": {},
   "outputs": [
    {
     "data": {
      "text/plain": [
       "'               Lahari                    '"
      ]
     },
     "execution_count": 34,
     "metadata": {},
     "output_type": "execute_result"
    }
   ],
   "source": [
    "s6"
   ]
  },
  {
   "cell_type": "code",
   "execution_count": 35,
   "id": "17b7df02",
   "metadata": {},
   "outputs": [
    {
     "data": {
      "text/plain": [
       "'Lahari'"
      ]
     },
     "execution_count": 35,
     "metadata": {},
     "output_type": "execute_result"
    }
   ],
   "source": [
    "s6.strip()"
   ]
  },
  {
   "cell_type": "code",
   "execution_count": 36,
   "id": "f66a3899",
   "metadata": {},
   "outputs": [
    {
     "data": {
      "text/plain": [
       "'Lahari                    '"
      ]
     },
     "execution_count": 36,
     "metadata": {},
     "output_type": "execute_result"
    }
   ],
   "source": [
    "s6.lstrip()"
   ]
  },
  {
   "cell_type": "code",
   "execution_count": 37,
   "id": "90c23c86",
   "metadata": {},
   "outputs": [
    {
     "data": {
      "text/plain": [
       "'               Lahari'"
      ]
     },
     "execution_count": 37,
     "metadata": {},
     "output_type": "execute_result"
    }
   ],
   "source": [
    "s6.rstrip()"
   ]
  },
  {
   "cell_type": "code",
   "execution_count": 40,
   "id": "4725b484",
   "metadata": {},
   "outputs": [],
   "source": [
    "s7=\"Harry\""
   ]
  },
  {
   "cell_type": "code",
   "execution_count": 41,
   "id": "c2e8af9f",
   "metadata": {},
   "outputs": [
    {
     "data": {
      "text/plain": [
       "'Happy'"
      ]
     },
     "execution_count": 41,
     "metadata": {},
     "output_type": "execute_result"
    }
   ],
   "source": [
    "s7.replace(\"r\",\"p\")"
   ]
  },
  {
   "cell_type": "markdown",
   "id": "ac955154",
   "metadata": {},
   "source": [
    "Alignment string FUnction:"
   ]
  },
  {
   "cell_type": "markdown",
   "id": "c286266e",
   "metadata": {},
   "source": [
    "Alignment of a centre string with a specified character"
   ]
  },
  {
   "cell_type": "code",
   "execution_count": 44,
   "id": "d1dc5172",
   "metadata": {},
   "outputs": [],
   "source": [
    "s8=\"Lahari Betavolu\""
   ]
  },
  {
   "cell_type": "code",
   "execution_count": 45,
   "id": "4e501bd7",
   "metadata": {},
   "outputs": [
    {
     "data": {
      "text/plain": [
       "'Lahari Betavolu'"
      ]
     },
     "execution_count": 45,
     "metadata": {},
     "output_type": "execute_result"
    }
   ],
   "source": [
    "s8"
   ]
  },
  {
   "cell_type": "code",
   "execution_count": 47,
   "id": "95374858",
   "metadata": {},
   "outputs": [
    {
     "data": {
      "text/plain": [
       "'*****************Lahari Betavolu******************'"
      ]
     },
     "execution_count": 47,
     "metadata": {},
     "output_type": "execute_result"
    }
   ],
   "source": [
    "s8.center(50,\"*\")"
   ]
  },
  {
   "cell_type": "code",
   "execution_count": 51,
   "id": "605ff676",
   "metadata": {},
   "outputs": [
    {
     "data": {
      "text/plain": [
       "'++++++++++++Lahari Betavolu+++++++++++++'"
      ]
     },
     "execution_count": 51,
     "metadata": {},
     "output_type": "execute_result"
    }
   ],
   "source": [
    "s8.center(40,\"+\")"
   ]
  },
  {
   "cell_type": "code",
   "execution_count": null,
   "id": "304a5543",
   "metadata": {},
   "outputs": [],
   "source": []
  }
 ],
 "metadata": {
  "kernelspec": {
   "display_name": "Python 3 (ipykernel)",
   "language": "python",
   "name": "python3"
  },
  "language_info": {
   "codemirror_mode": {
    "name": "ipython",
    "version": 3
   },
   "file_extension": ".py",
   "mimetype": "text/x-python",
   "name": "python",
   "nbconvert_exporter": "python",
   "pygments_lexer": "ipython3",
   "version": "3.10.5"
  }
 },
 "nbformat": 4,
 "nbformat_minor": 5
}
